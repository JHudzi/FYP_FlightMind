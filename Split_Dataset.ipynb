{
 "cells": [
  {
   "cell_type": "markdown",
   "id": "looking-provision",
   "metadata": {},
   "source": [
    "# Dataset Splitting Script"
   ]
  },
  {
   "cell_type": "markdown",
   "id": "intensive-mexican",
   "metadata": {},
   "source": [
    "## Author: Josh Hudziak\n",
    "***\n",
    "## Date: 30/04/21\n",
    "***\n",
    "## Purpose:\n",
    "* Split the data set into 80% training and 20% test data."
   ]
  },
  {
   "cell_type": "markdown",
   "id": "accessory-irish",
   "metadata": {},
   "source": [
    "### Import spiltfolders"
   ]
  },
  {
   "cell_type": "code",
   "execution_count": 1,
   "id": "massive-whale",
   "metadata": {},
   "outputs": [],
   "source": [
    "import splitfolders"
   ]
  },
  {
   "cell_type": "code",
   "execution_count": 2,
   "id": "dense-grain",
   "metadata": {},
   "outputs": [],
   "source": [
    "input_folder = r\"InsertRawDataset\"\n",
    "output = r\"Dataset\""
   ]
  },
  {
   "cell_type": "code",
   "execution_count": 3,
   "id": "printable-affiliation",
   "metadata": {},
   "outputs": [
    {
     "name": "stderr",
     "output_type": "stream",
     "text": [
      "Copying files: 6972 files [00:39, 176.46 files/s]\n"
     ]
    }
   ],
   "source": [
    "splitfolders.ratio(input_folder, output, seed=42, ratio=(.9, .1))"
   ]
  },
  {
   "cell_type": "code",
   "execution_count": 4,
   "id": "afraid-return",
   "metadata": {},
   "outputs": [
    {
     "name": "stdout",
     "output_type": "stream",
     "text": [
      "Help on function ratio in module splitfolders.split:\n",
      "\n",
      "ratio(input, output='output', seed=1337, ratio=(0.8, 0.1, 0.1), group_prefix=None)\n",
      "\n"
     ]
    }
   ],
   "source": [
    "help(splitfolders.ratio)"
   ]
  },
  {
   "cell_type": "code",
   "execution_count": null,
   "id": "innocent-chemistry",
   "metadata": {},
   "outputs": [],
   "source": []
  }
 ],
 "metadata": {
  "kernelspec": {
   "display_name": "Python 3.7 (tensorflow)",
   "language": "python",
   "name": "tensorflow"
  },
  "language_info": {
   "codemirror_mode": {
    "name": "ipython",
    "version": 3
   },
   "file_extension": ".py",
   "mimetype": "text/x-python",
   "name": "python",
   "nbconvert_exporter": "python",
   "pygments_lexer": "ipython3",
   "version": "3.7.9"
  }
 },
 "nbformat": 4,
 "nbformat_minor": 5
}
